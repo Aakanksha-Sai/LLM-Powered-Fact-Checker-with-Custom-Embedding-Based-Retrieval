{
  "cells": [
    {
      "cell_type": "code",
      "execution_count": 1,
      "metadata": {
        "id": "PNrTLUUqzhPS"
      },
      "outputs": [],
      "source": [
        "!pip install -q faiss-cpu\n",
        "!pip install -q sentence-transformers\n",
        "!pip install -q openai\n",
        "!pip install -q pandas\n",
        "!pip install -q tqdm"
      ]
    },
    {
      "cell_type": "code",
      "execution_count": 2,
      "metadata": {
        "colab": {
          "base_uri": "https://localhost:8080/"
        },
        "id": "spfMZMRUzneY",
        "outputId": "1dc1476e-2f28-40cd-f776-a10a39bb53d0"
      },
      "outputs": [
        {
          "name": "stdout",
          "output_type": "stream",
          "text": [
            "Saved verified_facts.csv with 20 entries\n"
          ]
        }
      ],
      "source": [
        "import requests\n",
        "import pandas as pd\n",
        "import xml.etree.ElementTree as ET\n",
        "\n",
        "# Fetching RSS feed using an URL\n",
        "rss_url = \"https://www.pib.gov.in/RssMain.aspx?ModId=6&Lang=1&Regid=3\"\n",
        "response = requests.get(rss_url)\n",
        "xml_data = response.content\n",
        "\n",
        "# Parse XML\n",
        "root = ET.fromstring(xml_data)\n",
        "\n",
        "# Extract items\n",
        "titles = []\n",
        "links = []\n",
        "\n",
        "for item in root.findall(\".//item\"):\n",
        "    title = item.find(\"title\").text\n",
        "    link = item.find(\"link\").text\n",
        "    titles.append(title.strip())\n",
        "    links.append(link.strip())\n",
        "\n",
        "# Save to CSV\n",
        "df = pd.DataFrame({'title': titles, 'link': links})\n",
        "df.to_csv(\"verified_facts.csv\", index=False)\n",
        "print(\"Saved verified_facts.csv with\", len(df), \"entries\")"
      ]
    },
    {
      "cell_type": "code",
      "execution_count": 3,
      "metadata": {
        "id": "DUCtVAbS0mca"
      },
      "outputs": [],
      "source": [
        "# Load facts for embedding\n",
        "facts = df['title'].tolist()"
      ]
    },
    {
      "cell_type": "code",
      "execution_count": 4,
      "metadata": {
        "colab": {
          "base_uri": "https://localhost:8080/",
          "height": 190,
          "referenced_widgets": [
            "f2934c3c24a74e3b988890e66c3cb862",
            "820f39ba427347beaebcb62c633c767d",
            "0edf9385e5bd44c39b07df9e0f4eeb83",
            "ebeee0052cb440029cf65348ae775d6c",
            "fd3823a4a0dd4a36b731d5a3493efbaa",
            "de20a44f12dd437c8a959b3c998eb7ab",
            "ea5dc912e6a54f808200eecf06fee335",
            "4df93a7525c149bbaa5f5d8798a7bb1f",
            "49c73f98304341e1a807e4a413a47dcd",
            "860360d0e9074f34bde139a6c3f2b60b",
            "9de9310591a2467682d5af3c60192fb0"
          ]
        },
        "id": "tjWyhDEp1UTz",
        "outputId": "2e6cbaea-0835-4c21-8c5e-32f6f18ba088"
      },
      "outputs": [
        {
          "name": "stderr",
          "output_type": "stream",
          "text": [
            "/usr/local/lib/python3.11/dist-packages/huggingface_hub/utils/_auth.py:94: UserWarning: \n",
            "The secret `HF_TOKEN` does not exist in your Colab secrets.\n",
            "To authenticate with the Hugging Face Hub, create a token in your settings tab (https://huggingface.co/settings/tokens), set it as secret in your Google Colab and restart your session.\n",
            "You will be able to reuse this secret in all of your notebooks.\n",
            "Please note that authentication is recommended but still optional to access public models or datasets.\n",
            "  warnings.warn(\n"
          ]
        },
        {
          "data": {
            "application/vnd.jupyter.widget-view+json": {
              "model_id": "f2934c3c24a74e3b988890e66c3cb862",
              "version_major": 2,
              "version_minor": 0
            },
            "text/plain": [
              "Batches:   0%|          | 0/1 [00:00<?, ?it/s]"
            ]
          },
          "metadata": {},
          "output_type": "display_data"
        },
        {
          "name": "stdout",
          "output_type": "stream",
          "text": [
            "Indexed 20 verified PIB facts.\n"
          ]
        }
      ],
      "source": [
        "from sentence_transformers import SentenceTransformer\n",
        "import faiss\n",
        "import numpy as np\n",
        "import pandas as pd\n",
        "\n",
        "# Loading facts\n",
        "df = pd.read_csv(\"verified_facts.csv\")\n",
        "facts = df['title'].tolist()\n",
        "\n",
        "# Loading Sentence Transformer\n",
        "model = SentenceTransformer('all-MiniLM-L6-v2')\n",
        "\n",
        "# Generating embeddings\n",
        "embeddings = model.encode(facts, show_progress_bar=True)\n",
        "\n",
        "# Converting to numpy array\n",
        "embeddings = np.array(embeddings).astype('float32')\n",
        "\n",
        "# Creating FAISS index\n",
        "index = faiss.IndexFlatL2(embeddings.shape[1])\n",
        "index.add(embeddings)\n",
        "print(f\"Indexed {len(facts)} verified PIB facts.\")"
      ]
    },
    {
      "cell_type": "code",
      "execution_count": 5,
      "metadata": {
        "id": "F5HpRNj81tX_"
      },
      "outputs": [],
      "source": [
        "# Define a Function to Retrieve Top-k Matches\n",
        "def retrieve_similar_facts(claim_text, top_k=3, min_score=0.7):\n",
        "    claim_embedding = model.encode([claim_text]).astype('float32')\n",
        "    distances, indices = index.search(claim_embedding, top_k)\n",
        "\n",
        "    valid_facts = []\n",
        "    for dist, idx in zip(distances[0], indices[0]):\n",
        "        score = 1 - dist / 2\n",
        "        if score >= min_score:\n",
        "            valid_facts.append(facts[idx])\n",
        "\n",
        "    return valid_facts\n"
      ]
    },
    {
      "cell_type": "code",
      "execution_count": null,
      "metadata": {
        "colab": {
          "base_uri": "https://localhost:8080/"
        },
        "id": "Wp3xHthB2OCd",
        "outputId": "768c3686-bf73-4d95-c056-31db25684431"
      },
      "outputs": [
        {
          "name": "stdout",
          "output_type": "stream",
          "text": [
            "Requirement already satisfied: openai in /usr/local/lib/python3.11/dist-packages (1.84.0)\n",
            "Requirement already satisfied: anyio<5,>=3.5.0 in /usr/local/lib/python3.11/dist-packages (from openai) (4.9.0)\n",
            "Requirement already satisfied: distro<2,>=1.7.0 in /usr/local/lib/python3.11/dist-packages (from openai) (1.9.0)\n",
            "Requirement already satisfied: httpx<1,>=0.23.0 in /usr/local/lib/python3.11/dist-packages (from openai) (0.28.1)\n",
            "Requirement already satisfied: jiter<1,>=0.4.0 in /usr/local/lib/python3.11/dist-packages (from openai) (0.10.0)\n",
            "Requirement already satisfied: pydantic<3,>=1.9.0 in /usr/local/lib/python3.11/dist-packages (from openai) (2.11.5)\n",
            "Requirement already satisfied: sniffio in /usr/local/lib/python3.11/dist-packages (from openai) (1.3.1)\n",
            "Requirement already satisfied: tqdm>4 in /usr/local/lib/python3.11/dist-packages (from openai) (4.67.1)\n",
            "Requirement already satisfied: typing-extensions<5,>=4.11 in /usr/local/lib/python3.11/dist-packages (from openai) (4.14.0)\n",
            "Requirement already satisfied: idna>=2.8 in /usr/local/lib/python3.11/dist-packages (from anyio<5,>=3.5.0->openai) (3.10)\n",
            "Requirement already satisfied: certifi in /usr/local/lib/python3.11/dist-packages (from httpx<1,>=0.23.0->openai) (2025.4.26)\n",
            "Requirement already satisfied: httpcore==1.* in /usr/local/lib/python3.11/dist-packages (from httpx<1,>=0.23.0->openai) (1.0.9)\n",
            "Requirement already satisfied: h11>=0.16 in /usr/local/lib/python3.11/dist-packages (from httpcore==1.*->httpx<1,>=0.23.0->openai) (0.16.0)\n",
            "Requirement already satisfied: annotated-types>=0.6.0 in /usr/local/lib/python3.11/dist-packages (from pydantic<3,>=1.9.0->openai) (0.7.0)\n",
            "Requirement already satisfied: pydantic-core==2.33.2 in /usr/local/lib/python3.11/dist-packages (from pydantic<3,>=1.9.0->openai) (2.33.2)\n",
            "Requirement already satisfied: typing-inspection>=0.4.0 in /usr/local/lib/python3.11/dist-packages (from pydantic<3,>=1.9.0->openai) (0.4.1)\n"
          ]
        }
      ],
      "source": [
        "# Install & Set OpenAI API Key\n",
        "!pip install openai\n",
        "import os\n",
        "\n",
        "import openai\n",
        "# Secure key handling\n",
        "openai.api_key = os.getenv(\"API_KEY\")\n",
        "\n",
        "def classify_claim_with_gpt(claim, retrieved_facts):\n",
        "    if not retrieved_facts:\n",
        "        return {\n",
        "            \"verdict\": \"Unverifiable\",\n",
        "            \"evidence\": [],\n",
        "            \"reasoning\": \"No semantically similar facts were retrieved to verify the claim.\"\n",
        "        }\n",
        "\n",
        "    prompt = f\"\"\"\n",
        "You are an AI fact-checking assistant.\n",
        "\n",
        "Claim: \"{claim}\"\n",
        "\n",
        "Retrieved Facts:\n",
        "{chr(10).join(f\"- {fact}\" for fact in retrieved_facts)}\n",
        "\n",
        "Classify the claim as one of: \"Likely True\", \"Likely False\", or \"Unverifiable\".\n",
        "Provide JSON output with keys: \"verdict\", \"evidence\", and \"reasoning\".\n",
        "Respond only with JSON.\n",
        "\"\"\"\n",
        "\n",
        "    try:\n",
        "        response = openai.ChatCompletion.create(\n",
        "            model=\"gpt-4\",\n",
        "            messages=[{\"role\": \"user\", \"content\": prompt}],\n",
        "            temperature=0.2\n",
        "        )\n",
        "        output = response['choices'][0]['message']['content']\n",
        "        return json.loads(output)\n",
        "\n",
        "    except Exception as e:\n",
        "        return {\n",
        "            \"verdict\": \"Error\",\n",
        "            \"evidence\": [],\n",
        "            \"reasoning\": f\"GPT classification failed: {str(e)}\"\n",
        "        }\n"
      ]
    },
    {
      "cell_type": "code",
      "execution_count": 7,
      "metadata": {
        "colab": {
          "base_uri": "https://localhost:8080/"
        },
        "id": "tfVQwNP53Hyd",
        "outputId": "be9e8720-5784-46d3-9e57-b8292cffb1bb"
      },
      "outputs": [
        {
          "name": "stdout",
          "output_type": "stream",
          "text": [
            "Collecting en-core-web-sm==3.8.0\n",
            "  Downloading https://github.com/explosion/spacy-models/releases/download/en_core_web_sm-3.8.0/en_core_web_sm-3.8.0-py3-none-any.whl (12.8 MB)\n",
            "\u001b[2K     \u001b[90m━━━━━━━━━━━━━━━━━━━━━━━━━━━━━━━━━━━━━━━━\u001b[0m \u001b[32m12.8/12.8 MB\u001b[0m \u001b[31m47.9 MB/s\u001b[0m eta \u001b[36m0:00:00\u001b[0m\n",
            "\u001b[?25h\u001b[38;5;2m✔ Download and installation successful\u001b[0m\n",
            "You can now load the package via spacy.load('en_core_web_sm')\n",
            "\u001b[38;5;3m⚠ Restart to reload dependencies\u001b[0m\n",
            "If you are in a Jupyter or Colab notebook, you may need to restart Python in\n",
            "order to load all the package's dependencies. You can do this by selecting the\n",
            "'Restart kernel' or 'Restart runtime' option.\n",
            "Extracted Claim: The Indian government\n"
          ]
        }
      ],
      "source": [
        "!pip install -q spacy\n",
        "!python -m spacy download en_core_web_sm\n",
        "import spacy\n",
        "\n",
        "# Load spaCy\n",
        "nlp = spacy.load(\"en_core_web_sm\")\n",
        "\n",
        "def extract_main_claim(text):\n",
        "    doc = nlp(text)\n",
        "    noun_chunks = [chunk.text for chunk in doc.noun_chunks]\n",
        "    named_entities = [ent.text for ent in doc.ents]\n",
        "    key_claim = max(noun_chunks + named_entities, key=len) if noun_chunks + named_entities else text\n",
        "    return key_claim.strip()\n",
        "\n",
        "claim_input = \"The Indian government has announced free electricity to all farmers starting July 2025.\"\n",
        "main_claim = extract_main_claim(claim_input)\n",
        "print(\"Extracted Claim:\", main_claim)\n"
      ]
    },
    {
      "cell_type": "code",
      "execution_count": 8,
      "metadata": {
        "colab": {
          "base_uri": "https://localhost:8080/"
        },
        "id": "oJTrrNR54FlQ",
        "outputId": "2dad4853-27a0-4667-c615-4cd9ca6cbd14"
      },
      "outputs": [
        {
          "name": "stdout",
          "output_type": "stream",
          "text": [
            "{\n",
            "  \"verdict\": \"Unverifiable\",\n",
            "  \"evidence\": [],\n",
            "  \"reasoning\": \"No semantically similar facts were retrieved to verify the claim.\"\n",
            "}\n"
          ]
        }
      ],
      "source": [
        "# Extract key claim\n",
        "main_claim = extract_main_claim(claim_input)\n",
        "\n",
        "# Retrieve similar facts\n",
        "retrieved = retrieve_similar_facts(main_claim)\n",
        "\n",
        "# Classify using GPT\n",
        "final_result = classify_claim_with_gpt(main_claim, retrieved)\n",
        "\n",
        "# Import the json module\n",
        "import json\n",
        "\n",
        "# Print and save\n",
        "print(json.dumps(final_result, indent=2))\n",
        "with open(\"fact_check_output.json\", \"w\") as f:\n",
        "    json.dump(final_result, f, indent=2)"
      ]
    },
    {
      "cell_type": "code",
      "execution_count": null,
      "metadata": {
        "id": "L4nQha8T7wEf"
      },
      "outputs": [],
      "source": []
    },
    {
      "cell_type": "code",
      "execution_count": null,
      "metadata": {
        "id": "1XyXdOkMdS5x"
      },
      "outputs": [],
      "source": []
    },
    {
      "cell_type": "code",
      "execution_count": null,
      "metadata": {
        "id": "g-GYuIhddSvx"
      },
      "outputs": [],
      "source": []
    }
  ],
  "metadata": {
    "colab": {
      "provenance": []
    },
    "kernelspec": {
      "display_name": "Python 3",
      "name": "python3"
    },
    "language_info": {
      "name": "python"
    },
    "widgets": {
      "application/vnd.jupyter.widget-state+json": {
        "0edf9385e5bd44c39b07df9e0f4eeb83": {
          "model_module": "@jupyter-widgets/controls",
          "model_module_version": "1.5.0",
          "model_name": "FloatProgressModel",
          "state": {
            "_dom_classes": [],
            "_model_module": "@jupyter-widgets/controls",
            "_model_module_version": "1.5.0",
            "_model_name": "FloatProgressModel",
            "_view_count": null,
            "_view_module": "@jupyter-widgets/controls",
            "_view_module_version": "1.5.0",
            "_view_name": "ProgressView",
            "bar_style": "success",
            "description": "",
            "description_tooltip": null,
            "layout": "IPY_MODEL_4df93a7525c149bbaa5f5d8798a7bb1f",
            "max": 1,
            "min": 0,
            "orientation": "horizontal",
            "style": "IPY_MODEL_49c73f98304341e1a807e4a413a47dcd",
            "value": 1
          }
        },
        "49c73f98304341e1a807e4a413a47dcd": {
          "model_module": "@jupyter-widgets/controls",
          "model_module_version": "1.5.0",
          "model_name": "ProgressStyleModel",
          "state": {
            "_model_module": "@jupyter-widgets/controls",
            "_model_module_version": "1.5.0",
            "_model_name": "ProgressStyleModel",
            "_view_count": null,
            "_view_module": "@jupyter-widgets/base",
            "_view_module_version": "1.2.0",
            "_view_name": "StyleView",
            "bar_color": null,
            "description_width": ""
          }
        },
        "4df93a7525c149bbaa5f5d8798a7bb1f": {
          "model_module": "@jupyter-widgets/base",
          "model_module_version": "1.2.0",
          "model_name": "LayoutModel",
          "state": {
            "_model_module": "@jupyter-widgets/base",
            "_model_module_version": "1.2.0",
            "_model_name": "LayoutModel",
            "_view_count": null,
            "_view_module": "@jupyter-widgets/base",
            "_view_module_version": "1.2.0",
            "_view_name": "LayoutView",
            "align_content": null,
            "align_items": null,
            "align_self": null,
            "border": null,
            "bottom": null,
            "display": null,
            "flex": null,
            "flex_flow": null,
            "grid_area": null,
            "grid_auto_columns": null,
            "grid_auto_flow": null,
            "grid_auto_rows": null,
            "grid_column": null,
            "grid_gap": null,
            "grid_row": null,
            "grid_template_areas": null,
            "grid_template_columns": null,
            "grid_template_rows": null,
            "height": null,
            "justify_content": null,
            "justify_items": null,
            "left": null,
            "margin": null,
            "max_height": null,
            "max_width": null,
            "min_height": null,
            "min_width": null,
            "object_fit": null,
            "object_position": null,
            "order": null,
            "overflow": null,
            "overflow_x": null,
            "overflow_y": null,
            "padding": null,
            "right": null,
            "top": null,
            "visibility": null,
            "width": null
          }
        },
        "820f39ba427347beaebcb62c633c767d": {
          "model_module": "@jupyter-widgets/controls",
          "model_module_version": "1.5.0",
          "model_name": "HTMLModel",
          "state": {
            "_dom_classes": [],
            "_model_module": "@jupyter-widgets/controls",
            "_model_module_version": "1.5.0",
            "_model_name": "HTMLModel",
            "_view_count": null,
            "_view_module": "@jupyter-widgets/controls",
            "_view_module_version": "1.5.0",
            "_view_name": "HTMLView",
            "description": "",
            "description_tooltip": null,
            "layout": "IPY_MODEL_de20a44f12dd437c8a959b3c998eb7ab",
            "placeholder": "​",
            "style": "IPY_MODEL_ea5dc912e6a54f808200eecf06fee335",
            "value": "Batches: 100%"
          }
        },
        "860360d0e9074f34bde139a6c3f2b60b": {
          "model_module": "@jupyter-widgets/base",
          "model_module_version": "1.2.0",
          "model_name": "LayoutModel",
          "state": {
            "_model_module": "@jupyter-widgets/base",
            "_model_module_version": "1.2.0",
            "_model_name": "LayoutModel",
            "_view_count": null,
            "_view_module": "@jupyter-widgets/base",
            "_view_module_version": "1.2.0",
            "_view_name": "LayoutView",
            "align_content": null,
            "align_items": null,
            "align_self": null,
            "border": null,
            "bottom": null,
            "display": null,
            "flex": null,
            "flex_flow": null,
            "grid_area": null,
            "grid_auto_columns": null,
            "grid_auto_flow": null,
            "grid_auto_rows": null,
            "grid_column": null,
            "grid_gap": null,
            "grid_row": null,
            "grid_template_areas": null,
            "grid_template_columns": null,
            "grid_template_rows": null,
            "height": null,
            "justify_content": null,
            "justify_items": null,
            "left": null,
            "margin": null,
            "max_height": null,
            "max_width": null,
            "min_height": null,
            "min_width": null,
            "object_fit": null,
            "object_position": null,
            "order": null,
            "overflow": null,
            "overflow_x": null,
            "overflow_y": null,
            "padding": null,
            "right": null,
            "top": null,
            "visibility": null,
            "width": null
          }
        },
        "9de9310591a2467682d5af3c60192fb0": {
          "model_module": "@jupyter-widgets/controls",
          "model_module_version": "1.5.0",
          "model_name": "DescriptionStyleModel",
          "state": {
            "_model_module": "@jupyter-widgets/controls",
            "_model_module_version": "1.5.0",
            "_model_name": "DescriptionStyleModel",
            "_view_count": null,
            "_view_module": "@jupyter-widgets/base",
            "_view_module_version": "1.2.0",
            "_view_name": "StyleView",
            "description_width": ""
          }
        },
        "de20a44f12dd437c8a959b3c998eb7ab": {
          "model_module": "@jupyter-widgets/base",
          "model_module_version": "1.2.0",
          "model_name": "LayoutModel",
          "state": {
            "_model_module": "@jupyter-widgets/base",
            "_model_module_version": "1.2.0",
            "_model_name": "LayoutModel",
            "_view_count": null,
            "_view_module": "@jupyter-widgets/base",
            "_view_module_version": "1.2.0",
            "_view_name": "LayoutView",
            "align_content": null,
            "align_items": null,
            "align_self": null,
            "border": null,
            "bottom": null,
            "display": null,
            "flex": null,
            "flex_flow": null,
            "grid_area": null,
            "grid_auto_columns": null,
            "grid_auto_flow": null,
            "grid_auto_rows": null,
            "grid_column": null,
            "grid_gap": null,
            "grid_row": null,
            "grid_template_areas": null,
            "grid_template_columns": null,
            "grid_template_rows": null,
            "height": null,
            "justify_content": null,
            "justify_items": null,
            "left": null,
            "margin": null,
            "max_height": null,
            "max_width": null,
            "min_height": null,
            "min_width": null,
            "object_fit": null,
            "object_position": null,
            "order": null,
            "overflow": null,
            "overflow_x": null,
            "overflow_y": null,
            "padding": null,
            "right": null,
            "top": null,
            "visibility": null,
            "width": null
          }
        },
        "ea5dc912e6a54f808200eecf06fee335": {
          "model_module": "@jupyter-widgets/controls",
          "model_module_version": "1.5.0",
          "model_name": "DescriptionStyleModel",
          "state": {
            "_model_module": "@jupyter-widgets/controls",
            "_model_module_version": "1.5.0",
            "_model_name": "DescriptionStyleModel",
            "_view_count": null,
            "_view_module": "@jupyter-widgets/base",
            "_view_module_version": "1.2.0",
            "_view_name": "StyleView",
            "description_width": ""
          }
        },
        "ebeee0052cb440029cf65348ae775d6c": {
          "model_module": "@jupyter-widgets/controls",
          "model_module_version": "1.5.0",
          "model_name": "HTMLModel",
          "state": {
            "_dom_classes": [],
            "_model_module": "@jupyter-widgets/controls",
            "_model_module_version": "1.5.0",
            "_model_name": "HTMLModel",
            "_view_count": null,
            "_view_module": "@jupyter-widgets/controls",
            "_view_module_version": "1.5.0",
            "_view_name": "HTMLView",
            "description": "",
            "description_tooltip": null,
            "layout": "IPY_MODEL_860360d0e9074f34bde139a6c3f2b60b",
            "placeholder": "​",
            "style": "IPY_MODEL_9de9310591a2467682d5af3c60192fb0",
            "value": " 1/1 [00:00&lt;00:00,  1.75it/s]"
          }
        },
        "f2934c3c24a74e3b988890e66c3cb862": {
          "model_module": "@jupyter-widgets/controls",
          "model_module_version": "1.5.0",
          "model_name": "HBoxModel",
          "state": {
            "_dom_classes": [],
            "_model_module": "@jupyter-widgets/controls",
            "_model_module_version": "1.5.0",
            "_model_name": "HBoxModel",
            "_view_count": null,
            "_view_module": "@jupyter-widgets/controls",
            "_view_module_version": "1.5.0",
            "_view_name": "HBoxView",
            "box_style": "",
            "children": [
              "IPY_MODEL_820f39ba427347beaebcb62c633c767d",
              "IPY_MODEL_0edf9385e5bd44c39b07df9e0f4eeb83",
              "IPY_MODEL_ebeee0052cb440029cf65348ae775d6c"
            ],
            "layout": "IPY_MODEL_fd3823a4a0dd4a36b731d5a3493efbaa"
          }
        },
        "fd3823a4a0dd4a36b731d5a3493efbaa": {
          "model_module": "@jupyter-widgets/base",
          "model_module_version": "1.2.0",
          "model_name": "LayoutModel",
          "state": {
            "_model_module": "@jupyter-widgets/base",
            "_model_module_version": "1.2.0",
            "_model_name": "LayoutModel",
            "_view_count": null,
            "_view_module": "@jupyter-widgets/base",
            "_view_module_version": "1.2.0",
            "_view_name": "LayoutView",
            "align_content": null,
            "align_items": null,
            "align_self": null,
            "border": null,
            "bottom": null,
            "display": null,
            "flex": null,
            "flex_flow": null,
            "grid_area": null,
            "grid_auto_columns": null,
            "grid_auto_flow": null,
            "grid_auto_rows": null,
            "grid_column": null,
            "grid_gap": null,
            "grid_row": null,
            "grid_template_areas": null,
            "grid_template_columns": null,
            "grid_template_rows": null,
            "height": null,
            "justify_content": null,
            "justify_items": null,
            "left": null,
            "margin": null,
            "max_height": null,
            "max_width": null,
            "min_height": null,
            "min_width": null,
            "object_fit": null,
            "object_position": null,
            "order": null,
            "overflow": null,
            "overflow_x": null,
            "overflow_y": null,
            "padding": null,
            "right": null,
            "top": null,
            "visibility": null,
            "width": null
          }
        }
      }
    }
  },
  "nbformat": 4,
  "nbformat_minor": 0
}
